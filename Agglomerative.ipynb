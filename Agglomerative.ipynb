{
 "cells": [
  {
   "cell_type": "code",
   "execution_count": 26,
   "metadata": {},
   "outputs": [],
   "source": [
    "import pandas as pd\n",
    "import numpy as np\n",
    "from sklearn.cluster import AgglomerativeClustering\n",
    "from sklearn.model_selection import train_test_split\n",
    "from numpy import unique\n",
    "from numpy import where\n",
    "from matplotlib import pyplot as plt"
   ]
  },
  {
   "cell_type": "code",
   "execution_count": 4,
   "metadata": {},
   "outputs": [],
   "source": [
    "data = pd.read_csv('data_for_claster.csv')\n",
    "df = data.drop([\"full_sq\", \"life_sq\", \"kitch_sq\", \"year\", \"gdp_quart_growth\", \"timestamp\", \"material\", \"area_m\", \"price_doc\"],axis=1)"
   ]
  },
  {
   "cell_type": "code",
   "execution_count": 23,
   "metadata": {},
   "outputs": [],
   "source": [
    "clustering = AgglomerativeClustering(n_clusters=10)"
   ]
  },
  {
   "cell_type": "code",
   "execution_count": 24,
   "metadata": {},
   "outputs": [],
   "source": [
    "res = clustering.fit_predict(df)"
   ]
  },
  {
   "cell_type": "code",
   "execution_count": 30,
   "metadata": {},
   "outputs": [
    {
     "ename": "ValueError",
     "evalue": "operands could not be broadcast together with shapes (18184,) (10,) ",
     "output_type": "error",
     "traceback": [
      "\u001b[0;31m---------------------------------------------------------------------------\u001b[0m",
      "\u001b[0;31mValueError\u001b[0m                                Traceback (most recent call last)",
      "Cell \u001b[0;32mIn[30], line 3\u001b[0m\n\u001b[1;32m      1\u001b[0m clusters \u001b[38;5;241m=\u001b[39m unique(res)\n\u001b[1;32m      2\u001b[0m \u001b[38;5;28;01mfor\u001b[39;00m cluster \u001b[38;5;129;01min\u001b[39;00m clusters:\n\u001b[0;32m----> 3\u001b[0m     index \u001b[38;5;241m=\u001b[39m where(\u001b[43mres\u001b[49m\u001b[43m \u001b[49m\u001b[38;5;241;43m==\u001b[39;49m\u001b[43m \u001b[49m\u001b[43mclusters\u001b[49m)\n\u001b[1;32m      4\u001b[0m     plt\u001b[38;5;241m.\u001b[39mscatter(df[index, \u001b[38;5;241m0\u001b[39m], df[index, \u001b[38;5;241m1\u001b[39m])\n\u001b[1;32m      7\u001b[0m plt\u001b[38;5;241m.\u001b[39mshow()\n",
      "\u001b[0;31mValueError\u001b[0m: operands could not be broadcast together with shapes (18184,) (10,) "
     ]
    }
   ],
   "source": [
    "clusters = unique(res)"
   ]
  },
  {
   "cell_type": "code",
   "execution_count": 70,
   "metadata": {},
   "outputs": [
    {
     "data": {
      "text/plain": [
       "<matplotlib.collections.PathCollection at 0x72fc4968f590>"
      ]
     },
     "execution_count": 70,
     "metadata": {},
     "output_type": "execute_result"
    },
    {
     "data": {
      "image/png": "[encoded data removed]",
      "text/plain": [
       "<Figure size 640x480 with 1 Axes>"
      ]
     },
     "metadata": {},
     "output_type": "display_data"
    }
   ],
   "source": [
    "sizef = np.arange(0, df.shape[0], 1, dtype=int)\n",
    "plt.scatter(sizef, res)"
   ]
  },
  {
   "cell_type": "code",
   "execution_count": 42,
   "metadata": {},
   "outputs": [
    {
     "name": "stdout",
     "output_type": "stream",
     "text": [
      "[1 0 1 ... 0 4 9]\n"
     ]
    }
   ],
   "source": [
    "print(f\"{res}\")"
   ]
  },
  {
   "cell_type": "code",
   "execution_count": 55,
   "metadata": {},
   "outputs": [
    {
     "data": {
      "text/plain": [
       "build_year                     3.605741e+07\n",
       "num_room                       3.486800e+04\n",
       "floor                          1.334940e+05\n",
       "max_floor                      2.422380e+05\n",
       "railroad_station_walk_km       7.455987e+04\n",
       "public_transport_station_km    6.771255e+03\n",
       "university_km                  1.157284e+05\n",
       "workplaces_km                  6.665173e+04\n",
       "shopping_centers_km            2.501776e+04\n",
       "office_km                      3.362104e+04\n",
       "sadovoe_km                     2.443286e+05\n",
       "bulvar_ring_km                 2.617880e+05\n",
       "kremlin_km                     2.806391e+05\n",
       "big_road1_km                   3.311282e+04\n",
       "railroad_km                    3.286540e+04\n",
       "dtype: float64"
      ]
     },
     "execution_count": 55,
     "metadata": {},
     "output_type": "execute_result"
    }
   ],
   "source": []
  },
  {
   "cell_type": "code",
   "execution_count": 57,
   "metadata": {},
   "outputs": [
    {
     "data": {
      "text/plain": [
       "0        1979.0\n",
       "1        1979.0\n",
       "2        1980.0\n",
       "3        1979.0\n",
       "4        2014.0\n",
       "          ...  \n",
       "18179    1975.0\n",
       "18180    1935.0\n",
       "18181    1979.0\n",
       "18182    2003.0\n",
       "18183    1968.0\n",
       "Name: build_year, Length: 18184, dtype: float64"
      ]
     },
     "execution_count": 57,
     "metadata": {},
     "output_type": "execute_result"
    }
   ],
   "source": [
    "df.iloc(axis=1)[0]"
   ]
  },
  {
   "cell_type": "code",
   "execution_count": 65,
   "metadata": {},
   "outputs": [
    {
     "data": {
      "text/plain": [
       "18184"
      ]
     },
     "execution_count": 65,
     "metadata": {},
     "output_type": "execute_result"
    }
   ],
   "source": [
    "df.shape[0]"
   ]
  },
  {
   "cell_type": "code",
   "execution_count": null,
   "metadata": {},
   "outputs": [],
   "source": []
  }
 ],
 "metadata": {
  "kernelspec": {
   "display_name": "Python 3",
   "language": "python",
   "name": "python3"
  },
  "language_info": {
   "codemirror_mode": {
    "name": "ipython",
    "version": 3
   },
   "file_extension": ".py",
   "mimetype": "text/x-python",
   "name": "python",
   "nbconvert_exporter": "python",
   "pygments_lexer": "ipython3",
   "version": "3.11.8"
  }
 },
 "nbformat": 4,
 "nbformat_minor": 2
}
